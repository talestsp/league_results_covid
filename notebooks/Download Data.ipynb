{
 "cells": [
  {
   "cell_type": "code",
   "execution_count": 1,
   "metadata": {},
   "outputs": [],
   "source": [
    "import os"
   ]
  },
  {
   "cell_type": "code",
   "execution_count": 2,
   "metadata": {},
   "outputs": [],
   "source": [
    "os.chdir(\"/home/tales/ds/league_results_covid/\")"
   ]
  },
  {
   "cell_type": "code",
   "execution_count": 3,
   "metadata": {},
   "outputs": [],
   "source": [
    "import urllib.request\n",
    "from src.dao import dao_football_data_co_uk as dao_fd"
   ]
  },
  {
   "cell_type": "code",
   "execution_count": null,
   "metadata": {},
   "outputs": [],
   "source": []
  },
  {
   "cell_type": "code",
   "execution_count": null,
   "metadata": {},
   "outputs": [],
   "source": []
  },
  {
   "cell_type": "code",
   "execution_count": 4,
   "metadata": {},
   "outputs": [],
   "source": [
    "seasons = [(\"20\", \"21\"), (\"19\", \"20\"), (\"18\", \"19\"), (\"17\", \"18\"), (\"16\", \"17\"), \n",
    "           (\"15\", \"16\"), (\"14\", \"15\"), (\"13\", \"14\"), (\"12\", \"13\"), (\"11\", \"12\"),\n",
    "           (\"10\", \"11\"), (\"09\", \"10\")]"
   ]
  },
  {
   "cell_type": "code",
   "execution_count": 5,
   "metadata": {},
   "outputs": [
    {
     "data": {
      "text/plain": [
       "{'SPAIN': 'SP1',\n",
       " 'ENGLAND': 'E0',\n",
       " 'ITALY': 'I1',\n",
       " 'PORTUGAL': 'P1',\n",
       " 'NETHERLANDS': 'N1',\n",
       " 'GERMANY': 'D1',\n",
       " 'FRANCE': 'F1'}"
      ]
     },
     "execution_count": 5,
     "metadata": {},
     "output_type": "execute_result"
    }
   ],
   "source": [
    "dao_fd.COUNTRY_DATA_FILENAME_MAP"
   ]
  },
  {
   "cell_type": "code",
   "execution_count": 6,
   "metadata": {},
   "outputs": [
    {
     "name": "stdout",
     "output_type": "stream",
     "text": [
      "SPAIN 20 / 21\n",
      "SPAIN 19 / 20\n",
      "SPAIN 18 / 19\n",
      "SPAIN 17 / 18\n",
      "SPAIN 16 / 17\n",
      "SPAIN 15 / 16\n",
      "SPAIN 14 / 15\n",
      "SPAIN 13 / 14\n",
      "SPAIN 12 / 13\n",
      "SPAIN 11 / 12\n",
      "SPAIN 10 / 11\n",
      "SPAIN 09 / 10\n",
      "ENGLAND 20 / 21\n",
      "ENGLAND 19 / 20\n",
      "ENGLAND 18 / 19\n",
      "ENGLAND 17 / 18\n",
      "ENGLAND 16 / 17\n",
      "ENGLAND 15 / 16\n",
      "ENGLAND 14 / 15\n",
      "ENGLAND 13 / 14\n",
      "ENGLAND 12 / 13\n",
      "ENGLAND 11 / 12\n",
      "ENGLAND 10 / 11\n",
      "ENGLAND 09 / 10\n",
      "ITALY 20 / 21\n",
      "ITALY 19 / 20\n",
      "ITALY 18 / 19\n",
      "ITALY 17 / 18\n",
      "ITALY 16 / 17\n",
      "ITALY 15 / 16\n",
      "ITALY 14 / 15\n",
      "ITALY 13 / 14\n",
      "ITALY 12 / 13\n",
      "ITALY 11 / 12\n",
      "ITALY 10 / 11\n",
      "ITALY 09 / 10\n",
      "PORTUGAL 20 / 21\n",
      "PORTUGAL 19 / 20\n",
      "PORTUGAL 18 / 19\n",
      "PORTUGAL 17 / 18\n",
      "PORTUGAL 16 / 17\n",
      "PORTUGAL 15 / 16\n",
      "PORTUGAL 14 / 15\n",
      "PORTUGAL 13 / 14\n",
      "PORTUGAL 12 / 13\n",
      "PORTUGAL 11 / 12\n",
      "PORTUGAL 10 / 11\n",
      "PORTUGAL 09 / 10\n",
      "NETHERLANDS 20 / 21\n",
      "NETHERLANDS 19 / 20\n",
      "NETHERLANDS 18 / 19\n",
      "NETHERLANDS 17 / 18\n",
      "NETHERLANDS 16 / 17\n",
      "NETHERLANDS 15 / 16\n",
      "NETHERLANDS 14 / 15\n",
      "NETHERLANDS 13 / 14\n",
      "NETHERLANDS 12 / 13\n",
      "NETHERLANDS 11 / 12\n",
      "NETHERLANDS 10 / 11\n",
      "NETHERLANDS 09 / 10\n",
      "GERMANY 20 / 21\n",
      "GERMANY 19 / 20\n",
      "GERMANY 18 / 19\n",
      "GERMANY 17 / 18\n",
      "GERMANY 16 / 17\n",
      "GERMANY 15 / 16\n",
      "GERMANY 14 / 15\n",
      "GERMANY 13 / 14\n",
      "GERMANY 12 / 13\n",
      "GERMANY 11 / 12\n",
      "GERMANY 10 / 11\n",
      "GERMANY 09 / 10\n",
      "FRANCE 20 / 21\n",
      "FRANCE 19 / 20\n",
      "FRANCE 18 / 19\n",
      "FRANCE 17 / 18\n",
      "FRANCE 16 / 17\n",
      "FRANCE 15 / 16\n",
      "FRANCE 14 / 15\n",
      "FRANCE 13 / 14\n",
      "FRANCE 12 / 13\n",
      "FRANCE 11 / 12\n",
      "FRANCE 10 / 11\n",
      "FRANCE 09 / 10\n"
     ]
    }
   ],
   "source": [
    "dao_fd.download_data(\"spain\", seasons)\n",
    "dao_fd.download_data(\"england\", seasons)\n",
    "dao_fd.download_data(\"italy\", seasons)\n",
    "dao_fd.download_data(\"portugal\", seasons)\n",
    "dao_fd.download_data(\"netherlands\", seasons)\n",
    "dao_fd.download_data(\"germany\", seasons)\n",
    "dao_fd.download_data(\"france\", seasons)"
   ]
  },
  {
   "cell_type": "code",
   "execution_count": null,
   "metadata": {},
   "outputs": [],
   "source": []
  }
 ],
 "metadata": {
  "kernelspec": {
   "display_name": "Python 3",
   "language": "python",
   "name": "python3"
  },
  "language_info": {
   "codemirror_mode": {
    "name": "ipython",
    "version": 3
   },
   "file_extension": ".py",
   "mimetype": "text/x-python",
   "name": "python",
   "nbconvert_exporter": "python",
   "pygments_lexer": "ipython3",
   "version": "3.8.3"
  }
 },
 "nbformat": 4,
 "nbformat_minor": 4
}
